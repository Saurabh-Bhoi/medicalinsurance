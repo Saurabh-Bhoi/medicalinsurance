{
 "cells": [
  {
   "cell_type": "code",
   "execution_count": 1,
   "id": "2c9b939a",
   "metadata": {},
   "outputs": [],
   "source": [
    "import numpy as np\n",
    "import pandas as pd\n",
    "import seaborn as sns\n",
    "import matplotlib.pyplot as plt\n",
    "from statsmodels.stats.outliers_influence import variance_inflation_factor\n",
    "from sklearn.model_selection import train_test_split, GridSearchCV, RandomizedSearchCV\n",
    "from sklearn.linear_model import LinearRegression, Ridge, Lasso\n",
    "from sklearn.metrics import mean_squared_error, mean_absolute_error, r2_score\n",
    "import warnings\n",
    "warnings.filterwarnings(\"ignore\")\n",
    "from scipy.stats import zscore, shapiro\n",
    "import statsmodels.api as sm\n",
    "import pickle\n",
    "import json\n"
   ]
  },
  {
   "cell_type": "markdown",
   "id": "cff9849a",
   "metadata": {},
   "source": [
    "### Problem Statement"
   ]
  },
  {
   "cell_type": "raw",
   "id": "2394dd8a",
   "metadata": {},
   "source": [
    "Predict insurance amount with the help of linear regression algorithm"
   ]
  },
  {
   "cell_type": "markdown",
   "id": "34d2ba54",
   "metadata": {},
   "source": [
    "### Data Gathering"
   ]
  },
  {
   "cell_type": "code",
   "execution_count": 2,
   "id": "48effd39",
   "metadata": {
    "scrolled": false
   },
   "outputs": [
    {
     "data": {
      "text/html": [
       "<div>\n",
       "<style scoped>\n",
       "    .dataframe tbody tr th:only-of-type {\n",
       "        vertical-align: middle;\n",
       "    }\n",
       "\n",
       "    .dataframe tbody tr th {\n",
       "        vertical-align: top;\n",
       "    }\n",
       "\n",
       "    .dataframe thead th {\n",
       "        text-align: right;\n",
       "    }\n",
       "</style>\n",
       "<table border=\"1\" class=\"dataframe\">\n",
       "  <thead>\n",
       "    <tr style=\"text-align: right;\">\n",
       "      <th></th>\n",
       "      <th>age</th>\n",
       "      <th>sex</th>\n",
       "      <th>bmi</th>\n",
       "      <th>children</th>\n",
       "      <th>smoker</th>\n",
       "      <th>region</th>\n",
       "      <th>charges</th>\n",
       "    </tr>\n",
       "  </thead>\n",
       "  <tbody>\n",
       "    <tr>\n",
       "      <th>0</th>\n",
       "      <td>19</td>\n",
       "      <td>female</td>\n",
       "      <td>27.900</td>\n",
       "      <td>0</td>\n",
       "      <td>yes</td>\n",
       "      <td>southwest</td>\n",
       "      <td>16884.92400</td>\n",
       "    </tr>\n",
       "    <tr>\n",
       "      <th>1</th>\n",
       "      <td>18</td>\n",
       "      <td>male</td>\n",
       "      <td>33.770</td>\n",
       "      <td>1</td>\n",
       "      <td>no</td>\n",
       "      <td>southeast</td>\n",
       "      <td>1725.55230</td>\n",
       "    </tr>\n",
       "    <tr>\n",
       "      <th>2</th>\n",
       "      <td>28</td>\n",
       "      <td>male</td>\n",
       "      <td>33.000</td>\n",
       "      <td>3</td>\n",
       "      <td>no</td>\n",
       "      <td>southeast</td>\n",
       "      <td>4449.46200</td>\n",
       "    </tr>\n",
       "    <tr>\n",
       "      <th>3</th>\n",
       "      <td>33</td>\n",
       "      <td>male</td>\n",
       "      <td>22.705</td>\n",
       "      <td>0</td>\n",
       "      <td>no</td>\n",
       "      <td>northwest</td>\n",
       "      <td>21984.47061</td>\n",
       "    </tr>\n",
       "    <tr>\n",
       "      <th>4</th>\n",
       "      <td>32</td>\n",
       "      <td>male</td>\n",
       "      <td>28.880</td>\n",
       "      <td>0</td>\n",
       "      <td>no</td>\n",
       "      <td>northwest</td>\n",
       "      <td>3866.85520</td>\n",
       "    </tr>\n",
       "    <tr>\n",
       "      <th>...</th>\n",
       "      <td>...</td>\n",
       "      <td>...</td>\n",
       "      <td>...</td>\n",
       "      <td>...</td>\n",
       "      <td>...</td>\n",
       "      <td>...</td>\n",
       "      <td>...</td>\n",
       "    </tr>\n",
       "    <tr>\n",
       "      <th>1333</th>\n",
       "      <td>50</td>\n",
       "      <td>male</td>\n",
       "      <td>30.970</td>\n",
       "      <td>3</td>\n",
       "      <td>no</td>\n",
       "      <td>northwest</td>\n",
       "      <td>10600.54830</td>\n",
       "    </tr>\n",
       "    <tr>\n",
       "      <th>1334</th>\n",
       "      <td>18</td>\n",
       "      <td>female</td>\n",
       "      <td>31.920</td>\n",
       "      <td>0</td>\n",
       "      <td>no</td>\n",
       "      <td>northeast</td>\n",
       "      <td>2205.98080</td>\n",
       "    </tr>\n",
       "    <tr>\n",
       "      <th>1335</th>\n",
       "      <td>18</td>\n",
       "      <td>female</td>\n",
       "      <td>36.850</td>\n",
       "      <td>0</td>\n",
       "      <td>no</td>\n",
       "      <td>southeast</td>\n",
       "      <td>1629.83350</td>\n",
       "    </tr>\n",
       "    <tr>\n",
       "      <th>1336</th>\n",
       "      <td>21</td>\n",
       "      <td>female</td>\n",
       "      <td>25.800</td>\n",
       "      <td>0</td>\n",
       "      <td>no</td>\n",
       "      <td>southwest</td>\n",
       "      <td>2007.94500</td>\n",
       "    </tr>\n",
       "    <tr>\n",
       "      <th>1337</th>\n",
       "      <td>61</td>\n",
       "      <td>female</td>\n",
       "      <td>29.070</td>\n",
       "      <td>0</td>\n",
       "      <td>yes</td>\n",
       "      <td>northwest</td>\n",
       "      <td>29141.36030</td>\n",
       "    </tr>\n",
       "  </tbody>\n",
       "</table>\n",
       "<p>1338 rows × 7 columns</p>\n",
       "</div>"
      ],
      "text/plain": [
       "      age     sex     bmi  children smoker     region      charges\n",
       "0      19  female  27.900         0    yes  southwest  16884.92400\n",
       "1      18    male  33.770         1     no  southeast   1725.55230\n",
       "2      28    male  33.000         3     no  southeast   4449.46200\n",
       "3      33    male  22.705         0     no  northwest  21984.47061\n",
       "4      32    male  28.880         0     no  northwest   3866.85520\n",
       "...   ...     ...     ...       ...    ...        ...          ...\n",
       "1333   50    male  30.970         3     no  northwest  10600.54830\n",
       "1334   18  female  31.920         0     no  northeast   2205.98080\n",
       "1335   18  female  36.850         0     no  southeast   1629.83350\n",
       "1336   21  female  25.800         0     no  southwest   2007.94500\n",
       "1337   61  female  29.070         0    yes  northwest  29141.36030\n",
       "\n",
       "[1338 rows x 7 columns]"
      ]
     },
     "execution_count": 2,
     "metadata": {},
     "output_type": "execute_result"
    }
   ],
   "source": [
    "df = pd.read_csv(\"medical_insurance.csv\")\n",
    "df"
   ]
  },
  {
   "cell_type": "markdown",
   "id": "01637c52",
   "metadata": {},
   "source": [
    "### Exploratory data analysis"
   ]
  },
  {
   "cell_type": "markdown",
   "id": "158c1869",
   "metadata": {},
   "source": [
    "### 1. statastical information"
   ]
  },
  {
   "cell_type": "code",
   "execution_count": 3,
   "id": "841d5168",
   "metadata": {},
   "outputs": [
    {
     "data": {
      "text/html": [
       "<div>\n",
       "<style scoped>\n",
       "    .dataframe tbody tr th:only-of-type {\n",
       "        vertical-align: middle;\n",
       "    }\n",
       "\n",
       "    .dataframe tbody tr th {\n",
       "        vertical-align: top;\n",
       "    }\n",
       "\n",
       "    .dataframe thead th {\n",
       "        text-align: right;\n",
       "    }\n",
       "</style>\n",
       "<table border=\"1\" class=\"dataframe\">\n",
       "  <thead>\n",
       "    <tr style=\"text-align: right;\">\n",
       "      <th></th>\n",
       "      <th>age</th>\n",
       "      <th>bmi</th>\n",
       "      <th>children</th>\n",
       "      <th>charges</th>\n",
       "    </tr>\n",
       "  </thead>\n",
       "  <tbody>\n",
       "    <tr>\n",
       "      <th>count</th>\n",
       "      <td>1338.000000</td>\n",
       "      <td>1338.000000</td>\n",
       "      <td>1338.000000</td>\n",
       "      <td>1338.000000</td>\n",
       "    </tr>\n",
       "    <tr>\n",
       "      <th>mean</th>\n",
       "      <td>39.207025</td>\n",
       "      <td>30.663397</td>\n",
       "      <td>1.094918</td>\n",
       "      <td>13270.422265</td>\n",
       "    </tr>\n",
       "    <tr>\n",
       "      <th>std</th>\n",
       "      <td>14.049960</td>\n",
       "      <td>6.098187</td>\n",
       "      <td>1.205493</td>\n",
       "      <td>12110.011237</td>\n",
       "    </tr>\n",
       "    <tr>\n",
       "      <th>min</th>\n",
       "      <td>18.000000</td>\n",
       "      <td>15.960000</td>\n",
       "      <td>0.000000</td>\n",
       "      <td>1121.873900</td>\n",
       "    </tr>\n",
       "    <tr>\n",
       "      <th>25%</th>\n",
       "      <td>27.000000</td>\n",
       "      <td>26.296250</td>\n",
       "      <td>0.000000</td>\n",
       "      <td>4740.287150</td>\n",
       "    </tr>\n",
       "    <tr>\n",
       "      <th>50%</th>\n",
       "      <td>39.000000</td>\n",
       "      <td>30.400000</td>\n",
       "      <td>1.000000</td>\n",
       "      <td>9382.033000</td>\n",
       "    </tr>\n",
       "    <tr>\n",
       "      <th>75%</th>\n",
       "      <td>51.000000</td>\n",
       "      <td>34.693750</td>\n",
       "      <td>2.000000</td>\n",
       "      <td>16639.912515</td>\n",
       "    </tr>\n",
       "    <tr>\n",
       "      <th>max</th>\n",
       "      <td>64.000000</td>\n",
       "      <td>53.130000</td>\n",
       "      <td>5.000000</td>\n",
       "      <td>63770.428010</td>\n",
       "    </tr>\n",
       "  </tbody>\n",
       "</table>\n",
       "</div>"
      ],
      "text/plain": [
       "               age          bmi     children       charges\n",
       "count  1338.000000  1338.000000  1338.000000   1338.000000\n",
       "mean     39.207025    30.663397     1.094918  13270.422265\n",
       "std      14.049960     6.098187     1.205493  12110.011237\n",
       "min      18.000000    15.960000     0.000000   1121.873900\n",
       "25%      27.000000    26.296250     0.000000   4740.287150\n",
       "50%      39.000000    30.400000     1.000000   9382.033000\n",
       "75%      51.000000    34.693750     2.000000  16639.912515\n",
       "max      64.000000    53.130000     5.000000  63770.428010"
      ]
     },
     "execution_count": 3,
     "metadata": {},
     "output_type": "execute_result"
    }
   ],
   "source": [
    "df.describe()"
   ]
  },
  {
   "cell_type": "markdown",
   "id": "71f6747d",
   "metadata": {},
   "source": [
    "### 2. missing values information"
   ]
  },
  {
   "cell_type": "code",
   "execution_count": 4,
   "id": "4d7ae6fd",
   "metadata": {},
   "outputs": [
    {
     "data": {
      "text/plain": [
       "age         0\n",
       "sex         0\n",
       "bmi         0\n",
       "children    0\n",
       "smoker      0\n",
       "region      0\n",
       "charges     0\n",
       "dtype: int64"
      ]
     },
     "execution_count": 4,
     "metadata": {},
     "output_type": "execute_result"
    }
   ],
   "source": [
    "df.isna().sum()"
   ]
  },
  {
   "cell_type": "markdown",
   "id": "c5cd444f",
   "metadata": {},
   "source": [
    "### 3. dataframe information"
   ]
  },
  {
   "cell_type": "code",
   "execution_count": 5,
   "id": "fdabce6e",
   "metadata": {
    "scrolled": false
   },
   "outputs": [
    {
     "name": "stdout",
     "output_type": "stream",
     "text": [
      "<class 'pandas.core.frame.DataFrame'>\n",
      "RangeIndex: 1338 entries, 0 to 1337\n",
      "Data columns (total 7 columns):\n",
      " #   Column    Non-Null Count  Dtype  \n",
      "---  ------    --------------  -----  \n",
      " 0   age       1338 non-null   int64  \n",
      " 1   sex       1338 non-null   object \n",
      " 2   bmi       1338 non-null   float64\n",
      " 3   children  1338 non-null   int64  \n",
      " 4   smoker    1338 non-null   object \n",
      " 5   region    1338 non-null   object \n",
      " 6   charges   1338 non-null   float64\n",
      "dtypes: float64(2), int64(2), object(3)\n",
      "memory usage: 73.3+ KB\n"
     ]
    }
   ],
   "source": [
    "df.info()"
   ]
  },
  {
   "cell_type": "markdown",
   "id": "f6e89014",
   "metadata": {},
   "source": [
    "### 4. Outlier information"
   ]
  },
  {
   "cell_type": "code",
   "execution_count": 6,
   "id": "515d30c8",
   "metadata": {},
   "outputs": [
    {
     "data": {
      "text/plain": [
       "<AxesSubplot:>"
      ]
     },
     "execution_count": 6,
     "metadata": {},
     "output_type": "execute_result"
    },
    {
     "data": {
      "image/png": "[encoded data removed]",
      "text/plain": [
       "<Figure size 640x480 with 1 Axes>"
      ]
     },
     "metadata": {},
     "output_type": "display_data"
    }
   ],
   "source": [
    "df.boxplot()"
   ]
  },
  {
   "cell_type": "markdown",
   "id": "31bb43d7",
   "metadata": {},
   "source": [
    "### age"
   ]
  },
  {
   "cell_type": "code",
   "execution_count": 7,
   "id": "a08d22f5",
   "metadata": {
    "scrolled": false
   },
   "outputs": [
    {
     "data": {
      "text/plain": [
       "<AxesSubplot:xlabel='age'>"
      ]
     },
     "execution_count": 7,
     "metadata": {},
     "output_type": "execute_result"
    }
   ],
   "source": [
    "sns.boxplot(df[\"age\"])"
   ]
  },
  {
   "cell_type": "markdown",
   "id": "57aff4b7",
   "metadata": {},
   "source": [
    "### bmi"
   ]
  },
  {
   "cell_type": "code",
   "execution_count": 8,
   "id": "073907f2",
   "metadata": {},
   "outputs": [
    {
     "data": {
      "text/plain": [
       "<AxesSubplot:xlabel='bmi'>"
      ]
     },
     "execution_count": 8,
     "metadata": {},
     "output_type": "execute_result"
    }
   ],
   "source": [
    "sns.boxplot(df[\"bmi\"])"
   ]
  },
  {
   "cell_type": "code",
   "execution_count": 9,
   "id": "91ca6436",
   "metadata": {
    "scrolled": false
   },
   "outputs": [
    {
     "name": "stdout",
     "output_type": "stream",
     "text": [
      "q1 = 26.29625\n",
      "q2 = 30.4\n",
      "q3 = 34.69375\n",
      "iqr = 8.3975\n",
      "upper_tail = 47.290000000000006\n",
      "lower_tail = 13.7\n"
     ]
    }
   ],
   "source": [
    "q1 = df[\"bmi\"].quantile(0.25)\n",
    "q2 = df[\"bmi\"].quantile(0.50)\n",
    "q3 = df[\"bmi\"].quantile(0.75)\n",
    "\n",
    "iqr = q3 - q1\n",
    "\n",
    "bmi_upper_tail = q3 + 1.5 * iqr\n",
    "bmi_lower_tail = q1 - 1.5 * iqr\n",
    "\n",
    "print(\"q1 =\", q1)\n",
    "print(\"q2 =\", q2)\n",
    "print(\"q3 =\", q3)\n",
    "print(\"iqr =\", iqr)\n",
    "print(\"upper_tail =\", bmi_upper_tail)\n",
    "print(\"lower_tail =\", bmi_lower_tail)"
   ]
  },
  {
   "cell_type": "code",
   "execution_count": 10,
   "id": "903c5804",
   "metadata": {
    "scrolled": true
   },
   "outputs": [
    {
     "data": {
      "text/html": [
       "<div>\n",
       "<style scoped>\n",
       "    .dataframe tbody tr th:only-of-type {\n",
       "        vertical-align: middle;\n",
       "    }\n",
       "\n",
       "    .dataframe tbody tr th {\n",
       "        vertical-align: top;\n",
       "    }\n",
       "\n",
       "    .dataframe thead th {\n",
       "        text-align: right;\n",
       "    }\n",
       "</style>\n",
       "<table border=\"1\" class=\"dataframe\">\n",
       "  <thead>\n",
       "    <tr style=\"text-align: right;\">\n",
       "      <th></th>\n",
       "      <th>bmi</th>\n",
       "    </tr>\n",
       "  </thead>\n",
       "  <tbody>\n",
       "    <tr>\n",
       "      <th>116</th>\n",
       "      <td>49.06</td>\n",
       "    </tr>\n",
       "    <tr>\n",
       "      <th>286</th>\n",
       "      <td>48.07</td>\n",
       "    </tr>\n",
       "    <tr>\n",
       "      <th>401</th>\n",
       "      <td>47.52</td>\n",
       "    </tr>\n",
       "    <tr>\n",
       "      <th>543</th>\n",
       "      <td>47.41</td>\n",
       "    </tr>\n",
       "    <tr>\n",
       "      <th>847</th>\n",
       "      <td>50.38</td>\n",
       "    </tr>\n",
       "    <tr>\n",
       "      <th>860</th>\n",
       "      <td>47.60</td>\n",
       "    </tr>\n",
       "    <tr>\n",
       "      <th>1047</th>\n",
       "      <td>52.58</td>\n",
       "    </tr>\n",
       "    <tr>\n",
       "      <th>1088</th>\n",
       "      <td>47.74</td>\n",
       "    </tr>\n",
       "    <tr>\n",
       "      <th>1317</th>\n",
       "      <td>53.13</td>\n",
       "    </tr>\n",
       "  </tbody>\n",
       "</table>\n",
       "</div>"
      ],
      "text/plain": [
       "        bmi\n",
       "116   49.06\n",
       "286   48.07\n",
       "401   47.52\n",
       "543   47.41\n",
       "847   50.38\n",
       "860   47.60\n",
       "1047  52.58\n",
       "1088  47.74\n",
       "1317  53.13"
      ]
     },
     "execution_count": 10,
     "metadata": {},
     "output_type": "execute_result"
    }
   ],
   "source": [
    "#uppertail outliers\n",
    "df[[\"bmi\"]].loc[df[\"bmi\"] > bmi_upper_tail]"
   ]
  },
  {
   "cell_type": "code",
   "execution_count": 11,
   "id": "104e361b",
   "metadata": {
    "scrolled": true
   },
   "outputs": [
    {
     "data": {
      "text/html": [
       "<div>\n",
       "<style scoped>\n",
       "    .dataframe tbody tr th:only-of-type {\n",
       "        vertical-align: middle;\n",
       "    }\n",
       "\n",
       "    .dataframe tbody tr th {\n",
       "        vertical-align: top;\n",
       "    }\n",
       "\n",
       "    .dataframe thead th {\n",
       "        text-align: right;\n",
       "    }\n",
       "</style>\n",
       "<table border=\"1\" class=\"dataframe\">\n",
       "  <thead>\n",
       "    <tr style=\"text-align: right;\">\n",
       "      <th></th>\n",
       "      <th>bmi</th>\n",
       "    </tr>\n",
       "  </thead>\n",
       "  <tbody>\n",
       "  </tbody>\n",
       "</table>\n",
       "</div>"
      ],
      "text/plain": [
       "Empty DataFrame\n",
       "Columns: [bmi]\n",
       "Index: []"
      ]
     },
     "execution_count": 11,
     "metadata": {},
     "output_type": "execute_result"
    }
   ],
   "source": [
    "#lowertail outliers\n",
    "df[[\"bmi\"]].loc[df[\"bmi\"] < bmi_lower_tail]"
   ]
  },
  {
   "cell_type": "markdown",
   "id": "2a62fde9",
   "metadata": {},
   "source": [
    "### children"
   ]
  },
  {
   "cell_type": "code",
   "execution_count": 12,
   "id": "ae4fcf02",
   "metadata": {},
   "outputs": [
    {
     "data": {
      "text/plain": [
       "<AxesSubplot:xlabel='children'>"
      ]
     },
     "execution_count": 12,
     "metadata": {},
     "output_type": "execute_result"
    }
   ],
   "source": [
    "sns.boxplot(df[\"children\"])"
   ]
  },
  {
   "cell_type": "markdown",
   "id": "9636c5a2",
   "metadata": {},
   "source": [
    "### Feature Engineering"
   ]
  },
  {
   "cell_type": "markdown",
   "id": "724e2f16",
   "metadata": {},
   "source": [
    "### Converting object data into numeric data"
   ]
  },
  {
   "cell_type": "markdown",
   "id": "816d21be",
   "metadata": {},
   "source": [
    "### 1. age"
   ]
  },
  {
   "cell_type": "code",
   "execution_count": 13,
   "id": "8ec589c6",
   "metadata": {
    "scrolled": true
   },
   "outputs": [
    {
     "data": {
      "text/plain": [
       "18    69\n",
       "19    68\n",
       "50    29\n",
       "51    29\n",
       "47    29\n",
       "Name: age, dtype: int64"
      ]
     },
     "execution_count": 13,
     "metadata": {},
     "output_type": "execute_result"
    }
   ],
   "source": [
    "df[\"age\"].value_counts().head(5)"
   ]
  },
  {
   "cell_type": "markdown",
   "id": "1f44d04a",
   "metadata": {},
   "source": [
    "### 2. sex"
   ]
  },
  {
   "cell_type": "code",
   "execution_count": 14,
   "id": "187a7ad4",
   "metadata": {
    "scrolled": false
   },
   "outputs": [
    {
     "data": {
      "text/plain": [
       "male      676\n",
       "female    662\n",
       "Name: sex, dtype: int64"
      ]
     },
     "execution_count": 14,
     "metadata": {},
     "output_type": "execute_result"
    }
   ],
   "source": [
    "df[\"sex\"].value_counts()"
   ]
  },
  {
   "cell_type": "code",
   "execution_count": 15,
   "id": "226c3b4a",
   "metadata": {},
   "outputs": [],
   "source": [
    "df.replace({\"male\":0, \"female\":1}, inplace=True)"
   ]
  },
  {
   "cell_type": "code",
   "execution_count": 16,
   "id": "a9539407",
   "metadata": {},
   "outputs": [
    {
     "data": {
      "text/plain": [
       "{'male': 0, 'female': 1}"
      ]
     },
     "execution_count": 16,
     "metadata": {},
     "output_type": "execute_result"
    }
   ],
   "source": [
    "sex_value = {\"male\":0, \"female\":1}\n",
    "sex_value"
   ]
  },
  {
   "cell_type": "markdown",
   "id": "57daea77",
   "metadata": {},
   "source": [
    "### 3. bmi"
   ]
  },
  {
   "cell_type": "code",
   "execution_count": 17,
   "id": "49e911a6",
   "metadata": {
    "scrolled": true
   },
   "outputs": [
    {
     "data": {
      "text/plain": [
       "32.300    13\n",
       "28.310     9\n",
       "30.495     8\n",
       "30.875     8\n",
       "31.350     8\n",
       "          ..\n",
       "46.200     1\n",
       "23.800     1\n",
       "44.770     1\n",
       "32.120     1\n",
       "30.970     1\n",
       "Name: bmi, Length: 548, dtype: int64"
      ]
     },
     "execution_count": 17,
     "metadata": {},
     "output_type": "execute_result"
    }
   ],
   "source": [
    "df[\"bmi\"].value_counts()"
   ]
  },
  {
   "cell_type": "markdown",
   "id": "9da6c4f5",
   "metadata": {},
   "source": [
    "### 4. children"
   ]
  },
  {
   "cell_type": "code",
   "execution_count": 18,
   "id": "e3318c30",
   "metadata": {
    "scrolled": true
   },
   "outputs": [
    {
     "data": {
      "text/plain": [
       "0    574\n",
       "1    324\n",
       "2    240\n",
       "3    157\n",
       "4     25\n",
       "5     18\n",
       "Name: children, dtype: int64"
      ]
     },
     "execution_count": 18,
     "metadata": {},
     "output_type": "execute_result"
    }
   ],
   "source": [
    "df[\"children\"].value_counts()"
   ]
  },
  {
   "cell_type": "markdown",
   "id": "a43bbefd",
   "metadata": {},
   "source": [
    "### 5. smoker"
   ]
  },
  {
   "cell_type": "code",
   "execution_count": 19,
   "id": "d1db00cc",
   "metadata": {},
   "outputs": [
    {
     "data": {
      "text/plain": [
       "no     1064\n",
       "yes     274\n",
       "Name: smoker, dtype: int64"
      ]
     },
     "execution_count": 19,
     "metadata": {},
     "output_type": "execute_result"
    }
   ],
   "source": [
    "df[\"smoker\"].value_counts()"
   ]
  },
  {
   "cell_type": "code",
   "execution_count": 20,
   "id": "aa475e61",
   "metadata": {},
   "outputs": [],
   "source": [
    "df.replace({\"no\":0, \"yes\":1}, inplace=True)"
   ]
  },
  {
   "cell_type": "code",
   "execution_count": 21,
   "id": "b3e6a677",
   "metadata": {},
   "outputs": [
    {
     "data": {
      "text/plain": [
       "{'no': 0, 'yes': 1}"
      ]
     },
     "execution_count": 21,
     "metadata": {},
     "output_type": "execute_result"
    }
   ],
   "source": [
    "smoker_value = {\"no\":0, \"yes\":1}\n",
    "smoker_value"
   ]
  },
  {
   "cell_type": "markdown",
   "id": "a4c9af31",
   "metadata": {},
   "source": [
    "### 6. region"
   ]
  },
  {
   "cell_type": "code",
   "execution_count": 22,
   "id": "6fff9024",
   "metadata": {
    "scrolled": false
   },
   "outputs": [
    {
     "data": {
      "text/plain": [
       "southeast    364\n",
       "southwest    325\n",
       "northwest    325\n",
       "northeast    324\n",
       "Name: region, dtype: int64"
      ]
     },
     "execution_count": 22,
     "metadata": {},
     "output_type": "execute_result"
    }
   ],
   "source": [
    "df[\"region\"].value_counts()"
   ]
  },
  {
   "cell_type": "code",
   "execution_count": 23,
   "id": "19606748",
   "metadata": {},
   "outputs": [],
   "source": [
    "df = pd.get_dummies(df, columns = [\"region\"])"
   ]
  },
  {
   "cell_type": "markdown",
   "id": "61e05aec",
   "metadata": {},
   "source": [
    "### 7. charges"
   ]
  },
  {
   "cell_type": "code",
   "execution_count": 24,
   "id": "eb06059f",
   "metadata": {
    "scrolled": false
   },
   "outputs": [
    {
     "data": {
      "text/plain": [
       "1639.56310     2\n",
       "16884.92400    1\n",
       "29330.98315    1\n",
       "2221.56445     1\n",
       "19798.05455    1\n",
       "              ..\n",
       "7345.08400     1\n",
       "26109.32905    1\n",
       "28287.89766    1\n",
       "1149.39590     1\n",
       "29141.36030    1\n",
       "Name: charges, Length: 1337, dtype: int64"
      ]
     },
     "execution_count": 24,
     "metadata": {},
     "output_type": "execute_result"
    }
   ],
   "source": [
    "df[\"charges\"].value_counts()"
   ]
  },
  {
   "cell_type": "markdown",
   "id": "de1db667",
   "metadata": {},
   "source": [
    "### Outliers Imputation"
   ]
  },
  {
   "cell_type": "markdown",
   "id": "c628bbbc",
   "metadata": {},
   "source": [
    "### bmi"
   ]
  },
  {
   "cell_type": "code",
   "execution_count": 25,
   "id": "1aad50f3",
   "metadata": {},
   "outputs": [
    {
     "data": {
      "text/plain": [
       "30.3"
      ]
     },
     "execution_count": 25,
     "metadata": {},
     "output_type": "execute_result"
    }
   ],
   "source": [
    "bmi_median = df[\"bmi\"].loc[(df[\"bmi\"] <= bmi_upper_tail)].median()\n",
    "bmi_median"
   ]
  },
  {
   "cell_type": "code",
   "execution_count": 26,
   "id": "12c738e6",
   "metadata": {},
   "outputs": [],
   "source": [
    "df.loc[(df[\"bmi\"] > bmi_upper_tail), \"bmi\"] = bmi_median"
   ]
  },
  {
   "cell_type": "code",
   "execution_count": 27,
   "id": "951f33c9",
   "metadata": {
    "scrolled": true
   },
   "outputs": [
    {
     "data": {
      "text/plain": [
       "Series([], Name: bmi, dtype: float64)"
      ]
     },
     "execution_count": 27,
     "metadata": {},
     "output_type": "execute_result"
    }
   ],
   "source": [
    "df.loc[(df[\"bmi\"] > bmi_upper_tail), \"bmi\"] "
   ]
  },
  {
   "cell_type": "markdown",
   "id": "076e3bd0",
   "metadata": {},
   "source": [
    "### Feature Selection"
   ]
  },
  {
   "cell_type": "markdown",
   "id": "c57f583b",
   "metadata": {},
   "source": [
    "### 1. Linearity"
   ]
  },
  {
   "cell_type": "code",
   "execution_count": 28,
   "id": "d7658203",
   "metadata": {},
   "outputs": [
    {
     "data": {
      "text/html": [
       "<div>\n",
       "<style scoped>\n",
       "    .dataframe tbody tr th:only-of-type {\n",
       "        vertical-align: middle;\n",
       "    }\n",
       "\n",
       "    .dataframe tbody tr th {\n",
       "        vertical-align: top;\n",
       "    }\n",
       "\n",
       "    .dataframe thead th {\n",
       "        text-align: right;\n",
       "    }\n",
       "</style>\n",
       "<table border=\"1\" class=\"dataframe\">\n",
       "  <thead>\n",
       "    <tr style=\"text-align: right;\">\n",
       "      <th></th>\n",
       "      <th>age</th>\n",
       "      <th>sex</th>\n",
       "      <th>bmi</th>\n",
       "      <th>children</th>\n",
       "      <th>smoker</th>\n",
       "      <th>charges</th>\n",
       "      <th>region_northeast</th>\n",
       "      <th>region_northwest</th>\n",
       "      <th>region_southeast</th>\n",
       "      <th>region_southwest</th>\n",
       "    </tr>\n",
       "  </thead>\n",
       "  <tbody>\n",
       "    <tr>\n",
       "      <th>age</th>\n",
       "      <td>1.000000</td>\n",
       "      <td>0.020856</td>\n",
       "      <td>0.114273</td>\n",
       "      <td>0.042469</td>\n",
       "      <td>-0.025019</td>\n",
       "      <td>0.299008</td>\n",
       "      <td>0.002475</td>\n",
       "      <td>-0.000407</td>\n",
       "      <td>-0.011642</td>\n",
       "      <td>0.010016</td>\n",
       "    </tr>\n",
       "    <tr>\n",
       "      <th>sex</th>\n",
       "      <td>0.020856</td>\n",
       "      <td>1.000000</td>\n",
       "      <td>-0.039736</td>\n",
       "      <td>-0.017163</td>\n",
       "      <td>-0.076185</td>\n",
       "      <td>-0.057292</td>\n",
       "      <td>0.002425</td>\n",
       "      <td>0.011156</td>\n",
       "      <td>-0.017117</td>\n",
       "      <td>0.004184</td>\n",
       "    </tr>\n",
       "    <tr>\n",
       "      <th>bmi</th>\n",
       "      <td>0.114273</td>\n",
       "      <td>-0.039736</td>\n",
       "      <td>1.000000</td>\n",
       "      <td>0.017377</td>\n",
       "      <td>-0.002943</td>\n",
       "      <td>0.190559</td>\n",
       "      <td>-0.135819</td>\n",
       "      <td>-0.128304</td>\n",
       "      <td>0.253677</td>\n",
       "      <td>0.000733</td>\n",
       "    </tr>\n",
       "    <tr>\n",
       "      <th>children</th>\n",
       "      <td>0.042469</td>\n",
       "      <td>-0.017163</td>\n",
       "      <td>0.017377</td>\n",
       "      <td>1.000000</td>\n",
       "      <td>0.007673</td>\n",
       "      <td>0.067998</td>\n",
       "      <td>-0.022808</td>\n",
       "      <td>0.024806</td>\n",
       "      <td>-0.023066</td>\n",
       "      <td>0.021914</td>\n",
       "    </tr>\n",
       "    <tr>\n",
       "      <th>smoker</th>\n",
       "      <td>-0.025019</td>\n",
       "      <td>-0.076185</td>\n",
       "      <td>-0.002943</td>\n",
       "      <td>0.007673</td>\n",
       "      <td>1.000000</td>\n",
       "      <td>0.787251</td>\n",
       "      <td>0.002811</td>\n",
       "      <td>-0.036945</td>\n",
       "      <td>0.068498</td>\n",
       "      <td>-0.036945</td>\n",
       "    </tr>\n",
       "    <tr>\n",
       "      <th>charges</th>\n",
       "      <td>0.299008</td>\n",
       "      <td>-0.057292</td>\n",
       "      <td>0.190559</td>\n",
       "      <td>0.067998</td>\n",
       "      <td>0.787251</td>\n",
       "      <td>1.000000</td>\n",
       "      <td>0.006349</td>\n",
       "      <td>-0.039905</td>\n",
       "      <td>0.073982</td>\n",
       "      <td>-0.043210</td>\n",
       "    </tr>\n",
       "    <tr>\n",
       "      <th>region_northeast</th>\n",
       "      <td>0.002475</td>\n",
       "      <td>0.002425</td>\n",
       "      <td>-0.135819</td>\n",
       "      <td>-0.022808</td>\n",
       "      <td>0.002811</td>\n",
       "      <td>0.006349</td>\n",
       "      <td>1.000000</td>\n",
       "      <td>-0.320177</td>\n",
       "      <td>-0.345561</td>\n",
       "      <td>-0.320177</td>\n",
       "    </tr>\n",
       "    <tr>\n",
       "      <th>region_northwest</th>\n",
       "      <td>-0.000407</td>\n",
       "      <td>0.011156</td>\n",
       "      <td>-0.128304</td>\n",
       "      <td>0.024806</td>\n",
       "      <td>-0.036945</td>\n",
       "      <td>-0.039905</td>\n",
       "      <td>-0.320177</td>\n",
       "      <td>1.000000</td>\n",
       "      <td>-0.346265</td>\n",
       "      <td>-0.320829</td>\n",
       "    </tr>\n",
       "    <tr>\n",
       "      <th>region_southeast</th>\n",
       "      <td>-0.011642</td>\n",
       "      <td>-0.017117</td>\n",
       "      <td>0.253677</td>\n",
       "      <td>-0.023066</td>\n",
       "      <td>0.068498</td>\n",
       "      <td>0.073982</td>\n",
       "      <td>-0.345561</td>\n",
       "      <td>-0.346265</td>\n",
       "      <td>1.000000</td>\n",
       "      <td>-0.346265</td>\n",
       "    </tr>\n",
       "    <tr>\n",
       "      <th>region_southwest</th>\n",
       "      <td>0.010016</td>\n",
       "      <td>0.004184</td>\n",
       "      <td>0.000733</td>\n",
       "      <td>0.021914</td>\n",
       "      <td>-0.036945</td>\n",
       "      <td>-0.043210</td>\n",
       "      <td>-0.320177</td>\n",
       "      <td>-0.320829</td>\n",
       "      <td>-0.346265</td>\n",
       "      <td>1.000000</td>\n",
       "    </tr>\n",
       "  </tbody>\n",
       "</table>\n",
       "</div>"
      ],
      "text/plain": [
       "                       age       sex       bmi  children    smoker   charges  \\\n",
       "age               1.000000  0.020856  0.114273  0.042469 -0.025019  0.299008   \n",
       "sex               0.020856  1.000000 -0.039736 -0.017163 -0.076185 -0.057292   \n",
       "bmi               0.114273 -0.039736  1.000000  0.017377 -0.002943  0.190559   \n",
       "children          0.042469 -0.017163  0.017377  1.000000  0.007673  0.067998   \n",
       "smoker           -0.025019 -0.076185 -0.002943  0.007673  1.000000  0.787251   \n",
       "charges           0.299008 -0.057292  0.190559  0.067998  0.787251  1.000000   \n",
       "region_northeast  0.002475  0.002425 -0.135819 -0.022808  0.002811  0.006349   \n",
       "region_northwest -0.000407  0.011156 -0.128304  0.024806 -0.036945 -0.039905   \n",
       "region_southeast -0.011642 -0.017117  0.253677 -0.023066  0.068498  0.073982   \n",
       "region_southwest  0.010016  0.004184  0.000733  0.021914 -0.036945 -0.043210   \n",
       "\n",
       "                  region_northeast  region_northwest  region_southeast  \\\n",
       "age                       0.002475         -0.000407         -0.011642   \n",
       "sex                       0.002425          0.011156         -0.017117   \n",
       "bmi                      -0.135819         -0.128304          0.253677   \n",
       "children                 -0.022808          0.024806         -0.023066   \n",
       "smoker                    0.002811         -0.036945          0.068498   \n",
       "charges                   0.006349         -0.039905          0.073982   \n",
       "region_northeast          1.000000         -0.320177         -0.345561   \n",
       "region_northwest         -0.320177          1.000000         -0.346265   \n",
       "region_southeast         -0.345561         -0.346265          1.000000   \n",
       "region_southwest         -0.320177         -0.320829         -0.346265   \n",
       "\n",
       "                  region_southwest  \n",
       "age                       0.010016  \n",
       "sex                       0.004184  \n",
       "bmi                       0.000733  \n",
       "children                  0.021914  \n",
       "smoker                   -0.036945  \n",
       "charges                  -0.043210  \n",
       "region_northeast         -0.320177  \n",
       "region_northwest         -0.320829  \n",
       "region_southeast         -0.346265  \n",
       "region_southwest          1.000000  "
      ]
     },
     "execution_count": 28,
     "metadata": {},
     "output_type": "execute_result"
    }
   ],
   "source": [
    "df.corr()"
   ]
  },
  {
   "cell_type": "code",
   "execution_count": 29,
   "id": "058b1fc6",
   "metadata": {
    "scrolled": false
   },
   "outputs": [
    {
     "data": {
      "text/plain": [
       "<AxesSubplot:>"
      ]
     },
     "execution_count": 29,
     "metadata": {},
     "output_type": "execute_result"
    }
   ],
   "source": [
    "sns.heatmap(df.corr(), annot=True)\n"
   ]
  },
  {
   "cell_type": "code",
   "execution_count": null,
   "id": "1d6889c1",
   "metadata": {},
   "outputs": [],
   "source": [
    "sns.pairplot(df.corr())"
   ]
  },
  {
   "cell_type": "markdown",
   "id": "6c458570",
   "metadata": {},
   "source": [
    "### 2. No Multicolinearity"
   ]
  },
  {
   "cell_type": "code",
   "execution_count": null,
   "id": "14df1181",
   "metadata": {},
   "outputs": [],
   "source": [
    "df1 = df.drop(\"charges\", axis=1)"
   ]
  },
  {
   "cell_type": "code",
   "execution_count": null,
   "id": "6c30ab8e",
   "metadata": {
    "scrolled": false
   },
   "outputs": [],
   "source": [
    "vif_list = []\n",
    "for i in range(df1.shape[1]):\n",
    "    vif = variance_inflation_factor(df1, i)\n",
    "    vif_list.append(vif)\n",
    "s1 = pd.Series(vif_list, index = df1.columns)\n",
    "s1.sort_values().plot(kind=\"barh\")"
   ]
  },
  {
   "cell_type": "markdown",
   "id": "21db0a65",
   "metadata": {},
   "source": [
    "### Model Building"
   ]
  },
  {
   "cell_type": "markdown",
   "id": "bdddae4a",
   "metadata": {},
   "source": [
    "### train test split"
   ]
  },
  {
   "cell_type": "code",
   "execution_count": null,
   "id": "0398e4a4",
   "metadata": {},
   "outputs": [],
   "source": [
    "x = df.drop(\"charges\", axis=1)\n",
    "y = df[\"charges\"]"
   ]
  },
  {
   "cell_type": "code",
   "execution_count": null,
   "id": "234ada63",
   "metadata": {
    "scrolled": false
   },
   "outputs": [],
   "source": [
    "x_train, x_test, y_train, y_test = train_test_split(x, y, test_size=0.1, random_state=1)\n",
    "display(\"x_train\", x_train)\n",
    "display(\"x_test\", x_test)\n",
    "display(\"y_train\", y_train)\n",
    "display(\"y_test\", y_test)\n"
   ]
  },
  {
   "cell_type": "markdown",
   "id": "ea973cda",
   "metadata": {},
   "source": [
    "### Linear Regression"
   ]
  },
  {
   "cell_type": "markdown",
   "id": "f5704241",
   "metadata": {},
   "source": [
    "### creating instance"
   ]
  },
  {
   "cell_type": "code",
   "execution_count": null,
   "id": "bff5e888",
   "metadata": {},
   "outputs": [],
   "source": [
    "linear_reg_model = LinearRegression()"
   ]
  },
  {
   "cell_type": "markdown",
   "id": "fef823fa",
   "metadata": {},
   "source": [
    "### model training"
   ]
  },
  {
   "cell_type": "code",
   "execution_count": null,
   "id": "c95d3c96",
   "metadata": {
    "scrolled": false
   },
   "outputs": [],
   "source": [
    "linear_reg_model.fit(x_train, y_train)"
   ]
  },
  {
   "cell_type": "markdown",
   "id": "327dd6a7",
   "metadata": {},
   "source": [
    "### Model Evaluation"
   ]
  },
  {
   "cell_type": "code",
   "execution_count": null,
   "id": "2dc54cb1",
   "metadata": {
    "scrolled": false
   },
   "outputs": [],
   "source": [
    "#prediction for training data\n",
    "\n",
    "y_pred_train = linear_reg_model.predict(x_train)\n",
    "\n",
    "mse = mean_squared_error(y_train, y_pred_train)\n",
    "print(\"mse =\", mse)\n",
    "\n",
    "rmse = np.sqrt(mse)\n",
    "print(\"rmse =\", rmse)\n",
    "\n",
    "mae = mean_absolute_error(y_train, y_pred_train)\n",
    "print(\"mae =\", mae)\n",
    "\n",
    "r2 =linear_reg_model.score(x_train, y_train)\n",
    "print(\"r2 =\", r2)"
   ]
  },
  {
   "cell_type": "code",
   "execution_count": null,
   "id": "397142fa",
   "metadata": {
    "scrolled": false
   },
   "outputs": [],
   "source": [
    "#prediction for testing data\n",
    "\n",
    "y_pred = linear_reg_model.predict(x_test)\n",
    "\n",
    "mse = mean_squared_error(y_test, y_pred)\n",
    "print(\"mse =\", mse)\n",
    "\n",
    "rmse = np.sqrt(mse)\n",
    "print(\"rmse =\", rmse)\n",
    "\n",
    "mae = mean_absolute_error(y_test, y_pred)\n",
    "print(\"mae =\", mae)\n",
    "\n",
    "r2 =linear_reg_model.score(x_test, y_test)\n",
    "print(\"r2 =\", r2)"
   ]
  },
  {
   "cell_type": "markdown",
   "id": "34f16d67",
   "metadata": {},
   "source": [
    "### Normality"
   ]
  },
  {
   "cell_type": "code",
   "execution_count": null,
   "id": "6ea00d7c",
   "metadata": {},
   "outputs": [],
   "source": [
    "residuals = y_train - y_pred_train\n",
    "residuals"
   ]
  },
  {
   "cell_type": "code",
   "execution_count": null,
   "id": "26dd4cae",
   "metadata": {
    "scrolled": false
   },
   "outputs": [],
   "source": [
    "#using distplot for checking normality\n",
    "sns.distplot(residuals)"
   ]
  },
  {
   "cell_type": "code",
   "execution_count": null,
   "id": "59343184",
   "metadata": {
    "scrolled": true
   },
   "outputs": [],
   "source": [
    "#using shapiro test for checking normality\n",
    "_, p_value = shapiro(residuals)\n",
    "print(p_value)\n",
    "\n",
    "if p_value > 0.05:\n",
    "    print(\"Null hypothesis is accepted\")\n",
    "    print(\"data is normally distributed\")\n",
    "else:\n",
    "    print(\"Alternate hypothesis is accepted\")\n",
    "    print(\"data is not normally distributed\")"
   ]
  },
  {
   "cell_type": "code",
   "execution_count": null,
   "id": "2d0b1dbe",
   "metadata": {
    "scrolled": false
   },
   "outputs": [],
   "source": [
    "#using qq plot for checking normality\n",
    "sm.qqplot(residuals, line=\"45\", fit=True)"
   ]
  },
  {
   "cell_type": "markdown",
   "id": "92b2edf8",
   "metadata": {},
   "source": [
    "### Homoscedasticity"
   ]
  },
  {
   "cell_type": "code",
   "execution_count": null,
   "id": "7063de14",
   "metadata": {},
   "outputs": [],
   "source": [
    "sns.scatterplot(x = y_train, y=residuals)"
   ]
  },
  {
   "cell_type": "markdown",
   "id": "d4484be0",
   "metadata": {},
   "source": [
    "### Ridge Regression"
   ]
  },
  {
   "cell_type": "markdown",
   "id": "6720f7fe",
   "metadata": {},
   "source": [
    "### creating instance"
   ]
  },
  {
   "cell_type": "code",
   "execution_count": null,
   "id": "ba9e470b",
   "metadata": {
    "scrolled": true
   },
   "outputs": [],
   "source": [
    "ridge_reg_model = Ridge(alpha = 0.1)"
   ]
  },
  {
   "cell_type": "markdown",
   "id": "a68bd642",
   "metadata": {},
   "source": [
    "### model training"
   ]
  },
  {
   "cell_type": "code",
   "execution_count": null,
   "id": "1568be08",
   "metadata": {},
   "outputs": [],
   "source": [
    "ridge_reg_model.fit(x_train, y_train)"
   ]
  },
  {
   "cell_type": "markdown",
   "id": "3e505f31",
   "metadata": {},
   "source": [
    "### Model Evaluation"
   ]
  },
  {
   "cell_type": "code",
   "execution_count": null,
   "id": "b66aaed8",
   "metadata": {},
   "outputs": [],
   "source": [
    "#prediction for training data\n",
    "\n",
    "y_pred_train = ridge_reg_model.predict(x_train)\n",
    "\n",
    "mse = mean_squared_error(y_train, y_pred_train)\n",
    "print(\"mse =\", mse)\n",
    "\n",
    "rmse = np.sqrt(mse)\n",
    "print(\"rmse =\", rmse)\n",
    "\n",
    "mae = mean_absolute_error(y_train, y_pred_train)\n",
    "print(\"mae =\", mae)\n",
    "\n",
    "r2 = ridge_reg_model.score(x_train, y_train)\n",
    "print(\"r2 =\", r2)"
   ]
  },
  {
   "cell_type": "code",
   "execution_count": null,
   "id": "ecb6ac23",
   "metadata": {},
   "outputs": [],
   "source": [
    "#prediction for testing data\n",
    "\n",
    "y_pred = ridge_reg_model.predict(x_test)\n",
    "\n",
    "mse = mean_squared_error(y_test, y_pred)\n",
    "print(\"mse =\", mse)\n",
    "\n",
    "rmse = np.sqrt(mse)\n",
    "print(\"rmse =\", rmse)\n",
    "\n",
    "mae = mean_absolute_error(y_test, y_pred)\n",
    "print(\"mae =\", mae)\n",
    "\n",
    "r2 = ridge_reg_model.score(x_test, y_test)\n",
    "print(\"r2 =\", r2)"
   ]
  },
  {
   "cell_type": "markdown",
   "id": "b585628c",
   "metadata": {},
   "source": [
    "### Lasso Regression"
   ]
  },
  {
   "cell_type": "markdown",
   "id": "c5186536",
   "metadata": {},
   "source": [
    "### creating instance"
   ]
  },
  {
   "cell_type": "code",
   "execution_count": null,
   "id": "69d95b1d",
   "metadata": {},
   "outputs": [],
   "source": [
    "lasso_reg_model = Lasso(alpha = 1.0)"
   ]
  },
  {
   "cell_type": "markdown",
   "id": "02db6a89",
   "metadata": {},
   "source": [
    "### model training"
   ]
  },
  {
   "cell_type": "code",
   "execution_count": null,
   "id": "3566cc9e",
   "metadata": {
    "scrolled": true
   },
   "outputs": [],
   "source": [
    "lasso_reg_model.fit(x_train, y_train)"
   ]
  },
  {
   "cell_type": "markdown",
   "id": "160dc4a1",
   "metadata": {},
   "source": [
    "### model evaluation"
   ]
  },
  {
   "cell_type": "code",
   "execution_count": null,
   "id": "0565e865",
   "metadata": {
    "scrolled": true
   },
   "outputs": [],
   "source": [
    "#prediction for training data\n",
    "\n",
    "y_pred_train = lasso_reg_model.predict(x_train)\n",
    "\n",
    "mse = mean_squared_error(y_train, y_pred_train)\n",
    "print(\"mse =\", mse)\n",
    "\n",
    "rmse = np.sqrt(mse)\n",
    "print(\"rmse =\", rmse)\n",
    "\n",
    "mae = mean_absolute_error(y_train, y_pred_train)\n",
    "print(\"mae =\", mae)\n",
    "\n",
    "r2 = lasso_reg_model.score(x_train, y_train)\n",
    "print(\"r2 =\", r2)"
   ]
  },
  {
   "cell_type": "code",
   "execution_count": null,
   "id": "45efc2c6",
   "metadata": {
    "scrolled": true
   },
   "outputs": [],
   "source": [
    "#prediction for testing data\n",
    "\n",
    "y_pred = lasso_reg_model.predict(x_test)\n",
    "\n",
    "mse = mean_squared_error(y_test, y_pred)\n",
    "print(\"mse =\", mse)\n",
    "\n",
    "rmse = np.sqrt(mse)\n",
    "print(\"rmse =\", rmse)\n",
    "\n",
    "mae = mean_absolute_error(y_test, y_pred)\n",
    "print(\"mae =\", mae)\n",
    "\n",
    "r2 = lasso_reg_model.score(x_test, y_test)\n",
    "print(\"r2 =\", r2)"
   ]
  },
  {
   "cell_type": "markdown",
   "id": "c21ee4be",
   "metadata": {},
   "source": [
    "### Hyper Parameter Tuning"
   ]
  },
  {
   "cell_type": "markdown",
   "id": "87d4b86f",
   "metadata": {},
   "source": [
    "### GridSearchCV for  Ridge Regression"
   ]
  },
  {
   "cell_type": "code",
   "execution_count": null,
   "id": "e853f96f",
   "metadata": {
    "scrolled": true
   },
   "outputs": [],
   "source": [
    "ridge_model = Ridge()\n",
    "param_grid = {\"alpha\" : np.arange(0.01,3,0.01)}\n",
    "gscv_ridge_model = GridSearchCV(ridge_model, param_grid, n_jobs=1)\n",
    "gscv_ridge_model.fit(x_train, y_train)"
   ]
  },
  {
   "cell_type": "code",
   "execution_count": null,
   "id": "ad69cdfe",
   "metadata": {
    "scrolled": true
   },
   "outputs": [],
   "source": [
    "gscv_ridge_model.best_estimator_"
   ]
  },
  {
   "cell_type": "code",
   "execution_count": null,
   "id": "5b0b9d5d",
   "metadata": {},
   "outputs": [],
   "source": [
    "Ridge_reg_model = Ridge(alpha=0.45)\n",
    "Ridge_reg_model.fit(x_train, y_train)"
   ]
  },
  {
   "cell_type": "code",
   "execution_count": null,
   "id": "2ed75201",
   "metadata": {
    "scrolled": true
   },
   "outputs": [],
   "source": [
    "#prediction on training dataset\n",
    "y_pred_train = Ridge_reg_model.predict(x_train)\n",
    "\n",
    "mse = mean_squared_error(y_train, y_pred_train)\n",
    "print(\"mse\", mse)\n",
    "\n",
    "rmse = np.sqrt(mse)\n",
    "print(\"rmse\", rmse)\n",
    "\n",
    "mae = mean_absolute_error(y_train, y_pred_train)\n",
    "print(\"mae\", mae)\n",
    "\n",
    "r2 = r2_score(y_train, y_pred_train)\n",
    "print(\"r2\", r2)"
   ]
  },
  {
   "cell_type": "code",
   "execution_count": null,
   "id": "85d74729",
   "metadata": {
    "scrolled": true
   },
   "outputs": [],
   "source": [
    "#prediction on testing dataset\n",
    "y_pred = Ridge_reg_model.predict(x_test)\n",
    "\n",
    "mse = mean_squared_error(y_test, y_pred)\n",
    "print(\"mse\", mse)\n",
    "\n",
    "rmse = np.sqrt(mse)\n",
    "print(\"rmse\", rmse)\n",
    "\n",
    "mae = mean_absolute_error(y_test, y_pred)\n",
    "print(\"mae\", mae)\n",
    "\n",
    "r2 = r2_score(y_test, y_pred)\n",
    "print(\"r2\", r2)\n"
   ]
  },
  {
   "cell_type": "markdown",
   "id": "9f904640",
   "metadata": {},
   "source": [
    "### RandomizedSearchCV for ridge regression"
   ]
  },
  {
   "cell_type": "code",
   "execution_count": null,
   "id": "74e48755",
   "metadata": {
    "scrolled": false
   },
   "outputs": [],
   "source": [
    "ridge_model = Ridge() \n",
    "param_grid = {\"alpha\": np.arange(0.01,3,0.01)}\n",
    "rmscv_ridge_model = RandomizedSearchCV(ridge_model, param_grid, n_jobs=1)\n",
    "rmscv_ridge_model.fit(x_train, y_train)"
   ]
  },
  {
   "cell_type": "code",
   "execution_count": null,
   "id": "c994a3c5",
   "metadata": {
    "scrolled": true
   },
   "outputs": [],
   "source": [
    "rmscv_ridge_model.best_estimator_"
   ]
  },
  {
   "cell_type": "code",
   "execution_count": null,
   "id": "f4dba245",
   "metadata": {
    "scrolled": false
   },
   "outputs": [],
   "source": [
    "Ridge_reg_model = Ridge(alpha=0.04)\n",
    "Ridge_reg_model.fit(x_train, y_train)"
   ]
  },
  {
   "cell_type": "code",
   "execution_count": null,
   "id": "bdb0cde9",
   "metadata": {
    "scrolled": true
   },
   "outputs": [],
   "source": [
    "#prediction on training dataset\n",
    "y_pred_train = Ridge_reg_model.predict(x_train)\n",
    "\n",
    "mse = mean_squared_error(y_train, y_pred_train)\n",
    "print(\"mse\", mse)\n",
    "\n",
    "rmse = np.sqrt(mse)\n",
    "print(\"rmse\", rmse)\n",
    "\n",
    "mae = mean_absolute_error(y_train, y_pred_train)\n",
    "print(\"mae\", mae)\n",
    "\n",
    "r2 = r2_score(y_train, y_pred_train)\n",
    "print(\"r2\", r2)"
   ]
  },
  {
   "cell_type": "code",
   "execution_count": null,
   "id": "7b888eeb",
   "metadata": {},
   "outputs": [],
   "source": [
    "#prediction on testing dataset\n",
    "y_pred = Ridge_reg_model.predict(x_test)\n",
    "\n",
    "mse = mean_squared_error(y_test, y_pred)\n",
    "print(\"mse\", mse)\n",
    "\n",
    "rmse = np.sqrt(mse)\n",
    "print(\"rmse\", rmse)\n",
    "\n",
    "mae = mean_absolute_error(y_test, y_pred)\n",
    "print(\"mae\", mae)\n",
    "\n",
    "r2 = r2_score(y_test, y_pred)\n",
    "print(\"r2\", r2)"
   ]
  },
  {
   "cell_type": "markdown",
   "id": "51ff7c55",
   "metadata": {},
   "source": [
    "### GridSearchCV for Lasso Regression"
   ]
  },
  {
   "cell_type": "code",
   "execution_count": null,
   "id": "cc62123a",
   "metadata": {
    "scrolled": false
   },
   "outputs": [],
   "source": [
    "lasso_model = Lasso()\n",
    "param_grid = {\"alpha\": np.arange(0.01,3,0.01)}\n",
    "gscv_lasso_model = GridSearchCV(ridge_model, param_grid, n_jobs=1)\n",
    "gscv_lasso_model.fit(x_train, y_train)"
   ]
  },
  {
   "cell_type": "code",
   "execution_count": null,
   "id": "de57429d",
   "metadata": {},
   "outputs": [],
   "source": [
    "gscv_lasso_model.best_estimator_"
   ]
  },
  {
   "cell_type": "code",
   "execution_count": null,
   "id": "840b0e9b",
   "metadata": {},
   "outputs": [],
   "source": [
    "Lasso_reg_model = Lasso(alpha=0.45)\n",
    "Lasso_reg_model.fit(x_train, y_train)"
   ]
  },
  {
   "cell_type": "code",
   "execution_count": null,
   "id": "38a1bdac",
   "metadata": {
    "scrolled": true
   },
   "outputs": [],
   "source": [
    "#prediction on training dataset\n",
    "y_pred_train = Ridge_reg_model.predict(x_train)\n",
    "\n",
    "mse = mean_squared_error(y_train, y_pred_train)\n",
    "print(\"mse\", mse)\n",
    "\n",
    "rmse = np.sqrt(mse)\n",
    "print(\"rmse\", rmse)\n",
    "\n",
    "mae = mean_absolute_error(y_train, y_pred_train)\n",
    "print(\"mae\", mae)\n",
    "\n",
    "r2 = r2_score(y_train, y_pred_train)\n",
    "print(\"r2\", r2)"
   ]
  },
  {
   "cell_type": "code",
   "execution_count": null,
   "id": "60646921",
   "metadata": {},
   "outputs": [],
   "source": [
    "#prediction on testing dataset\n",
    "y_pred = Ridge_reg_model.predict(x_test)\n",
    "\n",
    "mse = mean_squared_error(y_test, y_pred)\n",
    "print(\"mse\", mse)\n",
    "\n",
    "rmse = np.sqrt(mse)\n",
    "print(\"rmse\", rmse)\n",
    "\n",
    "mae = mean_absolute_error(y_test, y_pred)\n",
    "print(\"mae\", mae)\n",
    "\n",
    "r2 = r2_score(y_test, y_pred)\n",
    "print(\"r2\", r2)\n"
   ]
  },
  {
   "cell_type": "markdown",
   "id": "2418ba92",
   "metadata": {},
   "source": [
    "### RandomizedSearchCV for Lasoo Regression"
   ]
  },
  {
   "cell_type": "code",
   "execution_count": null,
   "id": "72291e0c",
   "metadata": {
    "scrolled": true
   },
   "outputs": [],
   "source": [
    "lasso_model = Lasso() \n",
    "param_grid = {\"alpha\": np.arange(0.01,3,0.01)}\n",
    "rmscv_lasso_model = RandomizedSearchCV(lasso_model, param_grid, n_jobs=1)\n",
    "rmscv_lasso_model.fit(x_train, y_train)"
   ]
  },
  {
   "cell_type": "code",
   "execution_count": null,
   "id": "6b6c4b5b",
   "metadata": {},
   "outputs": [],
   "source": [
    "rmscv_lasso_model.best_estimator_"
   ]
  },
  {
   "cell_type": "code",
   "execution_count": null,
   "id": "1e3ed259",
   "metadata": {},
   "outputs": [],
   "source": [
    "Lasso_reg_model = Lasso(alpha=1.96)\n",
    "Lasso_reg_model.fit(x_train, y_train)"
   ]
  },
  {
   "cell_type": "code",
   "execution_count": null,
   "id": "0066a2e5",
   "metadata": {},
   "outputs": [],
   "source": [
    "#prediction on training dataset\n",
    "y_pred_train = Ridge_reg_model.predict(x_train)\n",
    "\n",
    "mse = mean_squared_error(y_train, y_pred_train)\n",
    "print(\"mse\", mse)\n",
    "\n",
    "rmse = np.sqrt(mse)\n",
    "print(\"rmse\", rmse)\n",
    "\n",
    "mae = mean_absolute_error(y_train, y_pred_train)\n",
    "print(\"mae\", mae)\n",
    "\n",
    "r2 = r2_score(y_train, y_pred_train)\n",
    "print(\"r2\", r2)"
   ]
  },
  {
   "cell_type": "code",
   "execution_count": null,
   "id": "5021cb58",
   "metadata": {},
   "outputs": [],
   "source": [
    "#prediction on testing dataset\n",
    "y_pred = Ridge_reg_model.predict(x_test)\n",
    "\n",
    "mse = mean_squared_error(y_test, y_pred)\n",
    "print(\"mse\", mse)\n",
    "\n",
    "rmse = np.sqrt(mse)\n",
    "print(\"rmse\", rmse)\n",
    "\n",
    "mae = mean_absolute_error(y_test, y_pred)\n",
    "print(\"mae\", mae)\n",
    "\n",
    "r2 = r2_score(y_test, y_pred)\n",
    "print(\"r2\", r2)"
   ]
  },
  {
   "cell_type": "markdown",
   "id": "6d0c1ecb",
   "metadata": {},
   "source": [
    "### creating pickle file"
   ]
  },
  {
   "cell_type": "code",
   "execution_count": null,
   "id": "34da1227",
   "metadata": {},
   "outputs": [],
   "source": [
    "x.head(1).T"
   ]
  },
  {
   "cell_type": "code",
   "execution_count": null,
   "id": "b09782e1",
   "metadata": {},
   "outputs": [],
   "source": [
    "column_names = x.columns\n",
    "len(column_names)"
   ]
  },
  {
   "cell_type": "code",
   "execution_count": null,
   "id": "e0dfd423",
   "metadata": {},
   "outputs": [],
   "source": [
    "with open(\"Linear model.pkl\", \"wb\") as f:\n",
    "    pickle.dump(linear_reg_model, f)"
   ]
  },
  {
   "cell_type": "code",
   "execution_count": null,
   "id": "9122abd8",
   "metadata": {},
   "outputs": [],
   "source": [
    "json_data = {\"sex\":sex_value, \n",
    "            \"smoker\":smoker_value,\n",
    "            \"columns\":list(column_names)}\n",
    "json_data"
   ]
  },
  {
   "cell_type": "code",
   "execution_count": null,
   "id": "a3fd8605",
   "metadata": {
    "scrolled": true
   },
   "outputs": [],
   "source": [
    "    with open(\"Project_data.json\", \"w\") as f:\n",
    "        json.dump(json_data, f)"
   ]
  },
  {
   "cell_type": "markdown",
   "id": "daaf83e7",
   "metadata": {},
   "source": [
    "# Single user Input Testing"
   ]
  },
  {
   "cell_type": "code",
   "execution_count": null,
   "id": "73d205b1",
   "metadata": {},
   "outputs": [],
   "source": [
    "age = 19.0\n",
    "sex = \"female\"\n",
    "bmi = 27.9\n",
    "children = 0.0\n",
    "smoker = \"no\"\n",
    "region = \"northwest\"\n",
    "\n",
    "region = \"region_\" + region\n",
    "region\n",
    "\n",
    "region_index = np.where(column_names == region)[0][0]\n",
    "region_index"
   ]
  },
  {
   "cell_type": "code",
   "execution_count": null,
   "id": "7a146c87",
   "metadata": {},
   "outputs": [],
   "source": [
    "region_index = region_index = list(column_names).index(region)\n",
    "region_index"
   ]
  },
  {
   "cell_type": "code",
   "execution_count": null,
   "id": "ade19afc",
   "metadata": {},
   "outputs": [],
   "source": [
    "x.shape[1]"
   ]
  },
  {
   "cell_type": "code",
   "execution_count": null,
   "id": "ef247afe",
   "metadata": {},
   "outputs": [],
   "source": [
    "json_data['columns']"
   ]
  },
  {
   "cell_type": "code",
   "execution_count": null,
   "id": "2294a814",
   "metadata": {},
   "outputs": [],
   "source": [
    "test_array = np.zeros(len(column_names))\n",
    "\n",
    "test_array[0] = age\n",
    "test_array[1] = json_data['sex'][sex]\n",
    "test_array[2] = bmi\n",
    "test_array[3] = children\n",
    "test_array[4] = json_data['smoker'][smoker]\n",
    "test_array[region_index] = 1\n",
    "\n",
    "test_array"
   ]
  },
  {
   "cell_type": "code",
   "execution_count": null,
   "id": "f50de12f",
   "metadata": {},
   "outputs": [],
   "source": [
    "charges = round(linear_reg_model.predict([test_array])[0],2)\n",
    "print(\"Predicted Medical Insurance Charges is :\", charges, \"/- Rs. Only\")"
   ]
  },
  {
   "cell_type": "code",
   "execution_count": null,
   "id": "42c2d708",
   "metadata": {},
   "outputs": [],
   "source": [
    "data = dict([('age', '84'), ('sex', 'male'), ('bmi', '24'), ('children', '2'), ('smoker', 'no'), ('region', 'northeast')])\n",
    "data"
   ]
  }
 ],
 "metadata": {
  "kernelspec": {
   "display_name": "Python 3 (ipykernel)",
   "language": "python",
   "name": "python3"
  },
  "language_info": {
   "codemirror_mode": {
    "name": "ipython",
    "version": 3
   },
   "file_extension": ".py",
   "mimetype": "text/x-python",
   "name": "python",
   "nbconvert_exporter": "python",
   "pygments_lexer": "ipython3",
   "version": "3.9.13"
  }
 },
 "nbformat": 4,
 "nbformat_minor": 5
}
